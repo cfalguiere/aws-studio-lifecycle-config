{
 "cells": [
  {
   "cell_type": "code",
   "execution_count": null,
   "id": "7f23bc4f-fe0c-43f1-88b7-98fa6180f50d",
   "metadata": {},
   "outputs": [],
   "source": [
    "import pkg_resources\n",
    "import pprint\n",
    "installed_packages = pkg_resources.working_set\n",
    "installed_packages_list = sorted([\"%s==%s\" % (i.key, i.version)\n",
    "   for i in installed_packages])\n",
    "pprint.pprint(installed_packages_list)"
   ]
  },
  {
   "cell_type": "code",
   "execution_count": null,
   "id": "2c3de88c-924c-48f7-a27b-f4be03ce2418",
   "metadata": {},
   "outputs": [],
   "source": []
  }
 ],
 "metadata": {
  "instance_type": "ml.t3.medium",
  "kernelspec": {
   "display_name": "iris (arn:aws:sagemaker:eu-west-3:615547856133:image/datascience-1.0)",
   "language": "python",
   "name": "iris__SAGEMAKER_INTERNAL__arn:aws:sagemaker:eu-west-3:615547856133:image/datascience-1.0"
  },
  "language_info": {
   "codemirror_mode": {
    "name": "ipython",
    "version": 3
   },
   "file_extension": ".py",
   "mimetype": "text/x-python",
   "name": "python",
   "nbconvert_exporter": "python",
   "pygments_lexer": "ipython3",
   "version": "3.7.10"
  },
  "lcc_arn": "arn:aws:sagemaker:eu-west-3:102959664345:studio-lifecycle-config/lcc-kg-iris-20221028-165822"
 },
 "nbformat": 4,
 "nbformat_minor": 5
}
